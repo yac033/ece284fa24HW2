{
 "cells": [
  {
   "cell_type": "code",
   "execution_count": 19,
   "id": "agreed-korean",
   "metadata": {},
   "outputs": [
    {
     "name": "stdout",
     "output_type": "stream",
     "text": [
      "Net(\n",
      "  (fc1): Linear(in_features=2, out_features=5, bias=True)\n",
      "  (fc2): Linear(in_features=5, out_features=10, bias=True)\n",
      "  (fc3): Linear(in_features=10, out_features=1, bias=True)\n",
      ")\n",
      "[Parameter containing:\n",
      "tensor([[ 0.3118,  0.6851],\n",
      "        [-0.3832,  0.1838],\n",
      "        [-0.3732,  0.3696],\n",
      "        [-0.0401, -0.0783],\n",
      "        [ 0.1446,  0.1558]], requires_grad=True), Parameter containing:\n",
      "tensor([-0.0506, -0.4546,  0.2436, -0.4431, -0.4523], requires_grad=True), Parameter containing:\n",
      "tensor([[ 0.4418, -0.2442, -0.4411, -0.0388, -0.1910],\n",
      "        [ 0.2479,  0.2764,  0.4288, -0.4169,  0.1399],\n",
      "        [-0.1059, -0.0392, -0.3316, -0.0323,  0.4375],\n",
      "        [-0.1685, -0.1100,  0.1804, -0.2218, -0.3665],\n",
      "        [ 0.3221,  0.1651, -0.3664, -0.0207, -0.0854],\n",
      "        [ 0.3795, -0.4455,  0.1479, -0.1126, -0.2472],\n",
      "        [ 0.1670, -0.1769,  0.4470, -0.2205, -0.3857],\n",
      "        [-0.0336,  0.0752,  0.2979, -0.0482,  0.3269],\n",
      "        [ 0.4138, -0.3692, -0.2594, -0.1371, -0.2753],\n",
      "        [ 0.2758, -0.2787,  0.0206,  0.1032, -0.1971]], requires_grad=True), Parameter containing:\n",
      "tensor([-0.0317, -0.2902, -0.0321, -0.1589, -0.1082, -0.0515, -0.0544, -0.2508,\n",
      "        -0.3219,  0.1275], requires_grad=True), Parameter containing:\n",
      "tensor([[-0.1136, -0.1010, -0.2541, -0.1794, -0.0092, -0.1849, -0.2018, -0.2264,\n",
      "          0.3065, -0.0363]], requires_grad=True), Parameter containing:\n",
      "tensor([-0.0636], requires_grad=True)]\n"
     ]
    }
   ],
   "source": [
    "### Training with manually updating W with \"Backward\" ###\n",
    "\n",
    "import torch\n",
    "#from torch.autograd import Variable\n",
    "import torch.nn as nn\n",
    "import torch.nn.functional as F\n",
    "\n",
    "import torch.optim as optim\n",
    "\n",
    "\n",
    "\n",
    "\n",
    "data = [(1.0,2.1,3.0), (2.0, 3.5, 6.0), (3.0, 3.0, 9.0), (4.0, 2.1, 12.0), (5.0, 7.2, 15.0), (6.0, 10.1, 18.0)]\n",
    "x = torch.Tensor([d[:2] for d in data])\n",
    "y = torch.Tensor([d[2] for d in data])\n",
    "\n",
    "class Net(nn.Module):\n",
    "    def __init__(self):\n",
    "        super(Net, self).__init__()\n",
    "        self.fc1 = nn.Linear(2,5)\n",
    "        self.fc2 = nn.Linear(5,10)\n",
    "        self.fc3 = nn.Linear(10,1)\n",
    "    \n",
    "    def forward(self, x):\n",
    "        x = self.fc1(x)\n",
    "        x = F.relu(x)\n",
    "        x = self.fc2(x)\n",
    "        x = F.relu(x)\n",
    "        x = self.fc3(x)\n",
    "        x = F.relu(x)\n",
    "        return x\n",
    "\n",
    "\n",
    "\n",
    "net = Net()\n",
    "\n",
    "print(net)\n",
    "print(list(net.parameters()))\n",
    "\n",
    "#input = torch.randn(1)\n",
    "#out = net(input)\n",
    "\n",
    "#def criterion(out, label):\n",
    "#    return (label - out)**2\n",
    "criterion = nn.MSELoss()\n",
    "\n",
    "\n",
    "optimizer = optim.SGD(net.parameters(), lr=0.01, momentum=0.5)\n",
    "#optimizer = optim.Adam(net.parameters(), lr=0.005)\n",
    "for epoch in range(300):\n",
    "    for i in range(0,len(x),len(x)//2):\n",
    "        x_batch = x[i:i+len(x)//2]\n",
    "        y_batch = y[i:i+len(x)//2]\n",
    "        optimizer.zero_grad()\n",
    "        out = net(x)\n",
    "        loss = criterion(out, y)\n",
    "        loss.backward()\n",
    "        optimizer.step()\n"
   ]
  },
  {
   "cell_type": "code",
   "execution_count": 18,
   "id": "e3ce9669",
   "metadata": {},
   "outputs": [
    {
     "data": {
      "text/plain": [
       "[Parameter containing:\n",
       " tensor([[ 0.5507,  0.6671],\n",
       "         [ 0.0057, -0.0594],\n",
       "         [ 0.1171,  0.3885],\n",
       "         [-0.4017,  0.3217],\n",
       "         [ 0.3566,  0.3903]], requires_grad=True),\n",
       " Parameter containing:\n",
       " tensor([-0.2040, -0.5926,  0.1808,  0.2001, -0.0822], requires_grad=True),\n",
       " Parameter containing:\n",
       " tensor([[-0.4307,  0.0538, -0.4318, -0.3961, -0.3446],\n",
       "         [-0.1856,  0.0666, -0.2548,  0.0757,  0.3238],\n",
       "         [-0.2463,  0.0719,  0.2261, -0.2641, -0.2735],\n",
       "         [-0.3800,  0.1741,  0.1700,  0.3176, -0.2003],\n",
       "         [ 0.2596, -0.0236,  0.2906, -0.0195,  0.1158],\n",
       "         [-0.1210, -0.2117,  0.3186, -0.0444, -0.0286],\n",
       "         [ 0.4398,  0.3341,  0.0049, -0.3943, -0.1575],\n",
       "         [-0.1439,  0.1994, -0.0898, -0.0133, -0.4191],\n",
       "         [ 0.1297,  0.2036,  0.2468, -0.2808,  0.2951],\n",
       "         [ 0.3672,  0.1684,  0.4064,  0.2457,  0.3445]], requires_grad=True),\n",
       " Parameter containing:\n",
       " tensor([-0.0924,  0.0385, -0.0651,  0.1596,  0.0412, -0.1266,  0.0589, -0.4239,\n",
       "          0.3144,  0.2214], requires_grad=True),\n",
       " Parameter containing:\n",
       " tensor([[ 0.0098,  0.0273,  0.1927, -0.3146, -0.1369, -0.2542,  0.1059,  0.1735,\n",
       "           0.1179, -0.2736]], requires_grad=True),\n",
       " Parameter containing:\n",
       " tensor([-0.2404], requires_grad=True)]"
      ]
     },
     "execution_count": 18,
     "metadata": {},
     "output_type": "execute_result"
    }
   ],
   "source": [
    "list(net.parameters())"
   ]
  },
  {
   "cell_type": "code",
   "execution_count": 13,
   "id": "d2e4b385",
   "metadata": {},
   "outputs": [
    {
     "data": {
      "text/plain": [
       "tensor([[ 1.0000,  2.1000],\n",
       "        [ 2.0000,  3.5000],\n",
       "        [ 3.0000,  3.0000],\n",
       "        [ 4.0000,  2.1000],\n",
       "        [ 5.0000,  7.2000],\n",
       "        [ 6.0000, 10.1000]])"
      ]
     },
     "execution_count": 13,
     "metadata": {},
     "output_type": "execute_result"
    }
   ],
   "source": []
  },
  {
   "cell_type": "code",
   "execution_count": 14,
   "id": "8e24c32a",
   "metadata": {},
   "outputs": [
    {
     "data": {
      "text/plain": [
       "tensor([ 3.,  6.,  9., 12., 15., 18.])"
      ]
     },
     "execution_count": 14,
     "metadata": {},
     "output_type": "execute_result"
    }
   ],
   "source": [
    "y"
   ]
  },
  {
   "cell_type": "code",
   "execution_count": null,
   "id": "da0aa48f",
   "metadata": {},
   "outputs": [],
   "source": []
  }
 ],
 "metadata": {
  "kernelspec": {
   "display_name": "Python 3 (ipykernel)",
   "language": "python",
   "name": "python3"
  },
  "language_info": {
   "codemirror_mode": {
    "name": "ipython",
    "version": 3
   },
   "file_extension": ".py",
   "mimetype": "text/x-python",
   "name": "python",
   "nbconvert_exporter": "python",
   "pygments_lexer": "ipython3",
   "version": "3.9.13"
  }
 },
 "nbformat": 4,
 "nbformat_minor": 5
}
